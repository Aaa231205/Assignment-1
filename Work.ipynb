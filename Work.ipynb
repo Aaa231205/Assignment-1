{
 "cells": [
  {
   "cell_type": "code",
   "execution_count": 227,
   "id": "initial_id",
   "metadata": {
    "collapsed": true,
    "ExecuteTime": {
     "end_time": "2025-03-13T11:24:16.945220700Z",
     "start_time": "2025-03-13T11:24:16.633744700Z"
    }
   },
   "outputs": [],
   "source": [
    "# Importing the dataset into the notebook\n",
    "csv_file = open('CreditINFO.csv')"
   ]
  },
  {
   "cell_type": "code",
   "execution_count": 228,
   "outputs": [
    {
     "data": {
      "text/plain": "   Id      city  age sex social_class primary_business secondary_business  \\\n0   1   Dhanbad   22   F        Mochi        Tailoring             Others   \n1   2  Manjapra   21   F          OBC        Tailoring               none   \n2   3   Dhanbad   24   M          Nai     Beauty salon             Others   \n3   4       NaN   26   F          OBC        Tailoring               none   \n4   5   Nuapada   23   F          OBC    General store        Agriculture   \n\n   annual_income  monthly_expenses  old_dependents  ...  home_ownership  \\\n0        36000.0            5000.0               0  ...             1.0   \n1        94000.0            3600.0               1  ...             1.0   \n2        48000.0            4000.0               0  ...             1.0   \n3         7000.0            5000.0               0  ...             1.0   \n4        36000.0            3500.0               0  ...             1.0   \n\n   type_of_house occupants_count  house_area  sanitary_availability  \\\n0              R               4        70.0                    1.0   \n1             T1               4        80.0                    1.0   \n2             T1               4        50.0                    1.0   \n3             T1               5        50.0                    1.0   \n4             T1               1       112.0                    1.0   \n\n   water_availabity  loan_purpose loan_tenure  loan_installments  loan_amount  \n0               0.5      Apparels          12                 12       5000.0  \n1               0.5      Apparels          12                 50       7500.0  \n2               0.5  Beauty Salon          12                 12       5000.0  \n3               0.5      Apparels          12                 50       7500.0  \n4               0.5  Retail Store          12                 12       5000.0  \n\n[5 rows x 21 columns]",
      "text/html": "<div>\n<style scoped>\n    .dataframe tbody tr th:only-of-type {\n        vertical-align: middle;\n    }\n\n    .dataframe tbody tr th {\n        vertical-align: top;\n    }\n\n    .dataframe thead th {\n        text-align: right;\n    }\n</style>\n<table border=\"1\" class=\"dataframe\">\n  <thead>\n    <tr style=\"text-align: right;\">\n      <th></th>\n      <th>Id</th>\n      <th>city</th>\n      <th>age</th>\n      <th>sex</th>\n      <th>social_class</th>\n      <th>primary_business</th>\n      <th>secondary_business</th>\n      <th>annual_income</th>\n      <th>monthly_expenses</th>\n      <th>old_dependents</th>\n      <th>...</th>\n      <th>home_ownership</th>\n      <th>type_of_house</th>\n      <th>occupants_count</th>\n      <th>house_area</th>\n      <th>sanitary_availability</th>\n      <th>water_availabity</th>\n      <th>loan_purpose</th>\n      <th>loan_tenure</th>\n      <th>loan_installments</th>\n      <th>loan_amount</th>\n    </tr>\n  </thead>\n  <tbody>\n    <tr>\n      <th>0</th>\n      <td>1</td>\n      <td>Dhanbad</td>\n      <td>22</td>\n      <td>F</td>\n      <td>Mochi</td>\n      <td>Tailoring</td>\n      <td>Others</td>\n      <td>36000.0</td>\n      <td>5000.0</td>\n      <td>0</td>\n      <td>...</td>\n      <td>1.0</td>\n      <td>R</td>\n      <td>4</td>\n      <td>70.0</td>\n      <td>1.0</td>\n      <td>0.5</td>\n      <td>Apparels</td>\n      <td>12</td>\n      <td>12</td>\n      <td>5000.0</td>\n    </tr>\n    <tr>\n      <th>1</th>\n      <td>2</td>\n      <td>Manjapra</td>\n      <td>21</td>\n      <td>F</td>\n      <td>OBC</td>\n      <td>Tailoring</td>\n      <td>none</td>\n      <td>94000.0</td>\n      <td>3600.0</td>\n      <td>1</td>\n      <td>...</td>\n      <td>1.0</td>\n      <td>T1</td>\n      <td>4</td>\n      <td>80.0</td>\n      <td>1.0</td>\n      <td>0.5</td>\n      <td>Apparels</td>\n      <td>12</td>\n      <td>50</td>\n      <td>7500.0</td>\n    </tr>\n    <tr>\n      <th>2</th>\n      <td>3</td>\n      <td>Dhanbad</td>\n      <td>24</td>\n      <td>M</td>\n      <td>Nai</td>\n      <td>Beauty salon</td>\n      <td>Others</td>\n      <td>48000.0</td>\n      <td>4000.0</td>\n      <td>0</td>\n      <td>...</td>\n      <td>1.0</td>\n      <td>T1</td>\n      <td>4</td>\n      <td>50.0</td>\n      <td>1.0</td>\n      <td>0.5</td>\n      <td>Beauty Salon</td>\n      <td>12</td>\n      <td>12</td>\n      <td>5000.0</td>\n    </tr>\n    <tr>\n      <th>3</th>\n      <td>4</td>\n      <td>NaN</td>\n      <td>26</td>\n      <td>F</td>\n      <td>OBC</td>\n      <td>Tailoring</td>\n      <td>none</td>\n      <td>7000.0</td>\n      <td>5000.0</td>\n      <td>0</td>\n      <td>...</td>\n      <td>1.0</td>\n      <td>T1</td>\n      <td>5</td>\n      <td>50.0</td>\n      <td>1.0</td>\n      <td>0.5</td>\n      <td>Apparels</td>\n      <td>12</td>\n      <td>50</td>\n      <td>7500.0</td>\n    </tr>\n    <tr>\n      <th>4</th>\n      <td>5</td>\n      <td>Nuapada</td>\n      <td>23</td>\n      <td>F</td>\n      <td>OBC</td>\n      <td>General store</td>\n      <td>Agriculture</td>\n      <td>36000.0</td>\n      <td>3500.0</td>\n      <td>0</td>\n      <td>...</td>\n      <td>1.0</td>\n      <td>T1</td>\n      <td>1</td>\n      <td>112.0</td>\n      <td>1.0</td>\n      <td>0.5</td>\n      <td>Retail Store</td>\n      <td>12</td>\n      <td>12</td>\n      <td>5000.0</td>\n    </tr>\n  </tbody>\n</table>\n<p>5 rows × 21 columns</p>\n</div>"
     },
     "execution_count": 228,
     "metadata": {},
     "output_type": "execute_result"
    }
   ],
   "source": [
    "import pandas as pd\n",
    "\n",
    "df = pd.read_csv(csv_file)\n",
    "df.head()"
   ],
   "metadata": {
    "collapsed": false,
    "ExecuteTime": {
     "end_time": "2025-03-13T11:24:17.209551400Z",
     "start_time": "2025-03-13T11:24:16.647706500Z"
    }
   },
   "id": "f299dc009b71d0bb"
  },
  {
   "cell_type": "code",
   "execution_count": 229,
   "outputs": [
    {
     "name": "stdout",
     "output_type": "stream",
     "text": [
      "<class 'pandas.core.frame.DataFrame'>\n",
      "RangeIndex: 40000 entries, 0 to 39999\n",
      "Data columns (total 21 columns):\n",
      " #   Column                 Non-Null Count  Dtype  \n",
      "---  ------                 --------------  -----  \n",
      " 0   Id                     40000 non-null  int64  \n",
      " 1   city                   38136 non-null  object \n",
      " 2   age                    40000 non-null  int64  \n",
      " 3   sex                    40000 non-null  object \n",
      " 4   social_class           34745 non-null  object \n",
      " 5   primary_business       39974 non-null  object \n",
      " 6   secondary_business     34759 non-null  object \n",
      " 7   annual_income          40000 non-null  float64\n",
      " 8   monthly_expenses       39880 non-null  float64\n",
      " 9   old_dependents         40000 non-null  int64  \n",
      " 10  young_dependents       40000 non-null  int64  \n",
      " 11  home_ownership         39621 non-null  float64\n",
      " 12  type_of_house          39306 non-null  object \n",
      " 13  occupants_count        40000 non-null  int64  \n",
      " 14  house_area             40000 non-null  float64\n",
      " 15  sanitary_availability  39792 non-null  float64\n",
      " 16  water_availabity       34747 non-null  float64\n",
      " 17  loan_purpose           39974 non-null  object \n",
      " 18  loan_tenure            40000 non-null  int64  \n",
      " 19  loan_installments      40000 non-null  int64  \n",
      " 20  loan_amount            40000 non-null  float64\n",
      "dtypes: float64(7), int64(7), object(7)\n",
      "memory usage: 6.4+ MB\n"
     ]
    }
   ],
   "source": [
    "df.info()"
   ],
   "metadata": {
    "collapsed": false,
    "ExecuteTime": {
     "end_time": "2025-03-13T11:24:17.209551400Z",
     "start_time": "2025-03-13T11:24:16.829818600Z"
    }
   },
   "id": "d57742aa7ce889f0"
  },
  {
   "cell_type": "code",
   "execution_count": 230,
   "outputs": [
    {
     "data": {
      "text/plain": "                Id           age  annual_income  monthly_expenses  \\\ncount  40000.00000   40000.00000   4.000000e+04      39880.000000   \nmean   20000.50000      55.15990   3.764021e+04       3810.875401   \nstd    11547.14972    3830.35566   2.873912e+04       4592.958009   \nmin        1.00000       2.00000   0.000000e+00          2.000000   \n25%    10000.75000      29.00000   1.440000e+04       2500.000000   \n50%    20000.50000      35.00000   3.600000e+04       3500.000000   \n75%    30000.25000      42.00000   5.600000e+04       4000.000000   \nmax    40000.00000  766105.00000   1.200000e+06     240000.000000   \n\n       old_dependents  young_dependents  home_ownership  occupants_count  \\\ncount    40000.000000       40000.00000    39621.000000     40000.000000   \nmean         0.044900           1.13710        0.972489        26.641000   \nstd          0.222003           1.07384        0.163568      4749.995485   \nmin          0.000000           0.00000        0.000000         0.000000   \n25%          0.000000           0.00000        1.000000         2.000000   \n50%          0.000000           1.00000        1.000000         3.000000   \n75%          0.000000           2.00000        1.000000         4.000000   \nmax          3.000000           7.00000        1.000000    950000.000000   \n\n          house_area  sanitary_availability  water_availabity   loan_tenure  \\\ncount   40000.000000           39792.000000      34747.000000  40000.000000   \nmean      552.804750               0.686369          0.753216     12.032225   \nstd      4596.921905               0.464028          0.255337      1.367473   \nmin         0.000000              -1.000000         -1.000000      3.000000   \n25%       200.000000               0.000000          0.500000     12.000000   \n50%       400.000000               1.000000          1.000000     12.000000   \n75%       600.000000               1.000000          1.000000     12.000000   \nmax    700000.000000               1.000000          1.000000     84.000000   \n\n       loan_installments   loan_amount  \ncount       40000.000000  4.000000e+04  \nmean           21.761175  8.412593e+03  \nstd            16.682458  1.359694e+04  \nmin             0.000000  1.000000e+02  \n25%            12.000000  5.000000e+03  \n50%            12.000000  8.000000e+03  \n75%            50.000000  1.000000e+04  \nmax            84.000000  1.343000e+06  ",
      "text/html": "<div>\n<style scoped>\n    .dataframe tbody tr th:only-of-type {\n        vertical-align: middle;\n    }\n\n    .dataframe tbody tr th {\n        vertical-align: top;\n    }\n\n    .dataframe thead th {\n        text-align: right;\n    }\n</style>\n<table border=\"1\" class=\"dataframe\">\n  <thead>\n    <tr style=\"text-align: right;\">\n      <th></th>\n      <th>Id</th>\n      <th>age</th>\n      <th>annual_income</th>\n      <th>monthly_expenses</th>\n      <th>old_dependents</th>\n      <th>young_dependents</th>\n      <th>home_ownership</th>\n      <th>occupants_count</th>\n      <th>house_area</th>\n      <th>sanitary_availability</th>\n      <th>water_availabity</th>\n      <th>loan_tenure</th>\n      <th>loan_installments</th>\n      <th>loan_amount</th>\n    </tr>\n  </thead>\n  <tbody>\n    <tr>\n      <th>count</th>\n      <td>40000.00000</td>\n      <td>40000.00000</td>\n      <td>4.000000e+04</td>\n      <td>39880.000000</td>\n      <td>40000.000000</td>\n      <td>40000.00000</td>\n      <td>39621.000000</td>\n      <td>40000.000000</td>\n      <td>40000.000000</td>\n      <td>39792.000000</td>\n      <td>34747.000000</td>\n      <td>40000.000000</td>\n      <td>40000.000000</td>\n      <td>4.000000e+04</td>\n    </tr>\n    <tr>\n      <th>mean</th>\n      <td>20000.50000</td>\n      <td>55.15990</td>\n      <td>3.764021e+04</td>\n      <td>3810.875401</td>\n      <td>0.044900</td>\n      <td>1.13710</td>\n      <td>0.972489</td>\n      <td>26.641000</td>\n      <td>552.804750</td>\n      <td>0.686369</td>\n      <td>0.753216</td>\n      <td>12.032225</td>\n      <td>21.761175</td>\n      <td>8.412593e+03</td>\n    </tr>\n    <tr>\n      <th>std</th>\n      <td>11547.14972</td>\n      <td>3830.35566</td>\n      <td>2.873912e+04</td>\n      <td>4592.958009</td>\n      <td>0.222003</td>\n      <td>1.07384</td>\n      <td>0.163568</td>\n      <td>4749.995485</td>\n      <td>4596.921905</td>\n      <td>0.464028</td>\n      <td>0.255337</td>\n      <td>1.367473</td>\n      <td>16.682458</td>\n      <td>1.359694e+04</td>\n    </tr>\n    <tr>\n      <th>min</th>\n      <td>1.00000</td>\n      <td>2.00000</td>\n      <td>0.000000e+00</td>\n      <td>2.000000</td>\n      <td>0.000000</td>\n      <td>0.00000</td>\n      <td>0.000000</td>\n      <td>0.000000</td>\n      <td>0.000000</td>\n      <td>-1.000000</td>\n      <td>-1.000000</td>\n      <td>3.000000</td>\n      <td>0.000000</td>\n      <td>1.000000e+02</td>\n    </tr>\n    <tr>\n      <th>25%</th>\n      <td>10000.75000</td>\n      <td>29.00000</td>\n      <td>1.440000e+04</td>\n      <td>2500.000000</td>\n      <td>0.000000</td>\n      <td>0.00000</td>\n      <td>1.000000</td>\n      <td>2.000000</td>\n      <td>200.000000</td>\n      <td>0.000000</td>\n      <td>0.500000</td>\n      <td>12.000000</td>\n      <td>12.000000</td>\n      <td>5.000000e+03</td>\n    </tr>\n    <tr>\n      <th>50%</th>\n      <td>20000.50000</td>\n      <td>35.00000</td>\n      <td>3.600000e+04</td>\n      <td>3500.000000</td>\n      <td>0.000000</td>\n      <td>1.00000</td>\n      <td>1.000000</td>\n      <td>3.000000</td>\n      <td>400.000000</td>\n      <td>1.000000</td>\n      <td>1.000000</td>\n      <td>12.000000</td>\n      <td>12.000000</td>\n      <td>8.000000e+03</td>\n    </tr>\n    <tr>\n      <th>75%</th>\n      <td>30000.25000</td>\n      <td>42.00000</td>\n      <td>5.600000e+04</td>\n      <td>4000.000000</td>\n      <td>0.000000</td>\n      <td>2.00000</td>\n      <td>1.000000</td>\n      <td>4.000000</td>\n      <td>600.000000</td>\n      <td>1.000000</td>\n      <td>1.000000</td>\n      <td>12.000000</td>\n      <td>50.000000</td>\n      <td>1.000000e+04</td>\n    </tr>\n    <tr>\n      <th>max</th>\n      <td>40000.00000</td>\n      <td>766105.00000</td>\n      <td>1.200000e+06</td>\n      <td>240000.000000</td>\n      <td>3.000000</td>\n      <td>7.00000</td>\n      <td>1.000000</td>\n      <td>950000.000000</td>\n      <td>700000.000000</td>\n      <td>1.000000</td>\n      <td>1.000000</td>\n      <td>84.000000</td>\n      <td>84.000000</td>\n      <td>1.343000e+06</td>\n    </tr>\n  </tbody>\n</table>\n</div>"
     },
     "execution_count": 230,
     "metadata": {},
     "output_type": "execute_result"
    }
   ],
   "source": [
    "df.describe()"
   ],
   "metadata": {
    "collapsed": false,
    "ExecuteTime": {
     "end_time": "2025-03-13T11:24:17.211487500Z",
     "start_time": "2025-03-13T11:24:16.862025100Z"
    }
   },
   "id": "d5380888b400cb46"
  },
  {
   "cell_type": "code",
   "execution_count": 231,
   "outputs": [
    {
     "data": {
      "text/plain": "Id                          0\ncity                     1864\nage                         0\nsex                         0\nsocial_class             5255\nprimary_business           26\nsecondary_business       5241\nannual_income               0\nmonthly_expenses          120\nold_dependents              0\nyoung_dependents            0\nhome_ownership            379\ntype_of_house             694\noccupants_count             0\nhouse_area                  0\nsanitary_availability     208\nwater_availabity         5253\nloan_purpose               26\nloan_tenure                 0\nloan_installments           0\nloan_amount                 0\ndtype: int64"
     },
     "execution_count": 231,
     "metadata": {},
     "output_type": "execute_result"
    }
   ],
   "source": [
    "df.isnull().sum()"
   ],
   "metadata": {
    "collapsed": false,
    "ExecuteTime": {
     "end_time": "2025-03-13T11:24:17.231211900Z",
     "start_time": "2025-03-13T11:24:16.937706400Z"
    }
   },
   "id": "61c3abf04cd843c5"
  },
  {
   "cell_type": "code",
   "execution_count": 232,
   "outputs": [
    {
     "data": {
      "text/plain": "Id                        0.0000\ncity                      4.6600\nage                       0.0000\nsex                       0.0000\nsocial_class             13.1375\nprimary_business          0.0650\nsecondary_business       13.1025\nannual_income             0.0000\nmonthly_expenses          0.3000\nold_dependents            0.0000\nyoung_dependents          0.0000\nhome_ownership            0.9475\ntype_of_house             1.7350\noccupants_count           0.0000\nhouse_area                0.0000\nsanitary_availability     0.5200\nwater_availabity         13.1325\nloan_purpose              0.0650\nloan_tenure               0.0000\nloan_installments         0.0000\nloan_amount               0.0000\ndtype: float64"
     },
     "execution_count": 232,
     "metadata": {},
     "output_type": "execute_result"
    }
   ],
   "source": [
    "#Calculating the amount of missing data\n",
    "\n",
    "missing_data_percentage = (df.isnull().sum()/len(df))*100\n",
    "missing_data_percentage"
   ],
   "metadata": {
    "collapsed": false,
    "ExecuteTime": {
     "end_time": "2025-03-13T11:24:17.231793200Z",
     "start_time": "2025-03-13T11:24:16.962703400Z"
    }
   },
   "id": "7f5ab26c7b32ad3e"
  },
  {
   "cell_type": "code",
   "execution_count": 233,
   "outputs": [
    {
     "data": {
      "text/plain": "          Id      city  age sex social_class primary_business  \\\n0          1   Dhanbad   22   F        Mochi        Tailoring   \n1          2  Manjapra   21   F          OBC        Tailoring   \n2          3   Dhanbad   24   M          Nai     Beauty salon   \n3          4   Unknown   26   F          OBC        Tailoring   \n4          5   Nuapada   23   F          OBC    General store   \n...      ...       ...  ...  ..          ...              ...   \n39995  39996     Pusad   45   F       Muslim  Buffalo rearing   \n39996  39997     Pusad   35   F           ST        Tailoring   \n39997  39998     Pusad   35   F           Sc     Goat rearing   \n39998  39999     Pusad   28   F           Sc     Goat rearing   \n39999  40000     Pusad   32   F           Sc     Goat rearing   \n\n      secondary_business  annual_income  monthly_expenses  old_dependents  \\\n0                 Others        36000.0            5000.0               0   \n1                   none        94000.0            3600.0               1   \n2                 Others        48000.0            4000.0               0   \n3                   none         7000.0            5000.0               0   \n4            Agriculture        36000.0            3500.0               0   \n...                  ...            ...               ...             ...   \n39995               none        78000.0            4000.0               0   \n39996               none        48000.0            4000.0               0   \n39997               none        48000.0            3500.0               0   \n39998               none        48000.0            4000.0               0   \n39999               none        72000.0            4500.0               0   \n\n       ...  home_ownership  type_of_house occupants_count  house_area  \\\n0      ...             1.0              R               4        70.0   \n1      ...             1.0             T1               4        80.0   \n2      ...             1.0             T1               4        50.0   \n3      ...             1.0             T1               5        50.0   \n4      ...             1.0             T1               1       112.0   \n...    ...             ...            ...             ...         ...   \n39995  ...             1.0             T2               2       600.0   \n39996  ...             1.0             T2               4       800.0   \n39997  ...             1.0             T2               3       600.0   \n39998  ...             1.0             T2               4       600.0   \n39999  ...             1.0             T2               4       600.0   \n\n       sanitary_availability  water_availabity      loan_purpose loan_tenure  \\\n0                        1.0               0.5          Apparels          12   \n1                        1.0               0.5          Apparels          12   \n2                        1.0               0.5      Beauty Salon          12   \n3                        1.0               0.5          Apparels          12   \n4                        1.0               0.5      Retail Store          12   \n...                      ...               ...               ...         ...   \n39995                    1.0               1.0  Animal husbandry          12   \n39996                    1.0               1.0          Apparels          12   \n39997                    1.0               1.0   Meat Businesses          12   \n39998                    1.0               1.0   Meat Businesses          12   \n39999                    1.0               1.0   Meat Businesses          12   \n\n       loan_installments  loan_amount  \n0                     12       5000.0  \n1                     50       7500.0  \n2                     12       5000.0  \n3                     50       7500.0  \n4                     12       5000.0  \n...                  ...          ...  \n39995                 12       8000.0  \n39996                 12       8000.0  \n39997                 12       8000.0  \n39998                 12       8000.0  \n39999                 12       8000.0  \n\n[40000 rows x 21 columns]",
      "text/html": "<div>\n<style scoped>\n    .dataframe tbody tr th:only-of-type {\n        vertical-align: middle;\n    }\n\n    .dataframe tbody tr th {\n        vertical-align: top;\n    }\n\n    .dataframe thead th {\n        text-align: right;\n    }\n</style>\n<table border=\"1\" class=\"dataframe\">\n  <thead>\n    <tr style=\"text-align: right;\">\n      <th></th>\n      <th>Id</th>\n      <th>city</th>\n      <th>age</th>\n      <th>sex</th>\n      <th>social_class</th>\n      <th>primary_business</th>\n      <th>secondary_business</th>\n      <th>annual_income</th>\n      <th>monthly_expenses</th>\n      <th>old_dependents</th>\n      <th>...</th>\n      <th>home_ownership</th>\n      <th>type_of_house</th>\n      <th>occupants_count</th>\n      <th>house_area</th>\n      <th>sanitary_availability</th>\n      <th>water_availabity</th>\n      <th>loan_purpose</th>\n      <th>loan_tenure</th>\n      <th>loan_installments</th>\n      <th>loan_amount</th>\n    </tr>\n  </thead>\n  <tbody>\n    <tr>\n      <th>0</th>\n      <td>1</td>\n      <td>Dhanbad</td>\n      <td>22</td>\n      <td>F</td>\n      <td>Mochi</td>\n      <td>Tailoring</td>\n      <td>Others</td>\n      <td>36000.0</td>\n      <td>5000.0</td>\n      <td>0</td>\n      <td>...</td>\n      <td>1.0</td>\n      <td>R</td>\n      <td>4</td>\n      <td>70.0</td>\n      <td>1.0</td>\n      <td>0.5</td>\n      <td>Apparels</td>\n      <td>12</td>\n      <td>12</td>\n      <td>5000.0</td>\n    </tr>\n    <tr>\n      <th>1</th>\n      <td>2</td>\n      <td>Manjapra</td>\n      <td>21</td>\n      <td>F</td>\n      <td>OBC</td>\n      <td>Tailoring</td>\n      <td>none</td>\n      <td>94000.0</td>\n      <td>3600.0</td>\n      <td>1</td>\n      <td>...</td>\n      <td>1.0</td>\n      <td>T1</td>\n      <td>4</td>\n      <td>80.0</td>\n      <td>1.0</td>\n      <td>0.5</td>\n      <td>Apparels</td>\n      <td>12</td>\n      <td>50</td>\n      <td>7500.0</td>\n    </tr>\n    <tr>\n      <th>2</th>\n      <td>3</td>\n      <td>Dhanbad</td>\n      <td>24</td>\n      <td>M</td>\n      <td>Nai</td>\n      <td>Beauty salon</td>\n      <td>Others</td>\n      <td>48000.0</td>\n      <td>4000.0</td>\n      <td>0</td>\n      <td>...</td>\n      <td>1.0</td>\n      <td>T1</td>\n      <td>4</td>\n      <td>50.0</td>\n      <td>1.0</td>\n      <td>0.5</td>\n      <td>Beauty Salon</td>\n      <td>12</td>\n      <td>12</td>\n      <td>5000.0</td>\n    </tr>\n    <tr>\n      <th>3</th>\n      <td>4</td>\n      <td>Unknown</td>\n      <td>26</td>\n      <td>F</td>\n      <td>OBC</td>\n      <td>Tailoring</td>\n      <td>none</td>\n      <td>7000.0</td>\n      <td>5000.0</td>\n      <td>0</td>\n      <td>...</td>\n      <td>1.0</td>\n      <td>T1</td>\n      <td>5</td>\n      <td>50.0</td>\n      <td>1.0</td>\n      <td>0.5</td>\n      <td>Apparels</td>\n      <td>12</td>\n      <td>50</td>\n      <td>7500.0</td>\n    </tr>\n    <tr>\n      <th>4</th>\n      <td>5</td>\n      <td>Nuapada</td>\n      <td>23</td>\n      <td>F</td>\n      <td>OBC</td>\n      <td>General store</td>\n      <td>Agriculture</td>\n      <td>36000.0</td>\n      <td>3500.0</td>\n      <td>0</td>\n      <td>...</td>\n      <td>1.0</td>\n      <td>T1</td>\n      <td>1</td>\n      <td>112.0</td>\n      <td>1.0</td>\n      <td>0.5</td>\n      <td>Retail Store</td>\n      <td>12</td>\n      <td>12</td>\n      <td>5000.0</td>\n    </tr>\n    <tr>\n      <th>...</th>\n      <td>...</td>\n      <td>...</td>\n      <td>...</td>\n      <td>...</td>\n      <td>...</td>\n      <td>...</td>\n      <td>...</td>\n      <td>...</td>\n      <td>...</td>\n      <td>...</td>\n      <td>...</td>\n      <td>...</td>\n      <td>...</td>\n      <td>...</td>\n      <td>...</td>\n      <td>...</td>\n      <td>...</td>\n      <td>...</td>\n      <td>...</td>\n      <td>...</td>\n      <td>...</td>\n    </tr>\n    <tr>\n      <th>39995</th>\n      <td>39996</td>\n      <td>Pusad</td>\n      <td>45</td>\n      <td>F</td>\n      <td>Muslim</td>\n      <td>Buffalo rearing</td>\n      <td>none</td>\n      <td>78000.0</td>\n      <td>4000.0</td>\n      <td>0</td>\n      <td>...</td>\n      <td>1.0</td>\n      <td>T2</td>\n      <td>2</td>\n      <td>600.0</td>\n      <td>1.0</td>\n      <td>1.0</td>\n      <td>Animal husbandry</td>\n      <td>12</td>\n      <td>12</td>\n      <td>8000.0</td>\n    </tr>\n    <tr>\n      <th>39996</th>\n      <td>39997</td>\n      <td>Pusad</td>\n      <td>35</td>\n      <td>F</td>\n      <td>ST</td>\n      <td>Tailoring</td>\n      <td>none</td>\n      <td>48000.0</td>\n      <td>4000.0</td>\n      <td>0</td>\n      <td>...</td>\n      <td>1.0</td>\n      <td>T2</td>\n      <td>4</td>\n      <td>800.0</td>\n      <td>1.0</td>\n      <td>1.0</td>\n      <td>Apparels</td>\n      <td>12</td>\n      <td>12</td>\n      <td>8000.0</td>\n    </tr>\n    <tr>\n      <th>39997</th>\n      <td>39998</td>\n      <td>Pusad</td>\n      <td>35</td>\n      <td>F</td>\n      <td>Sc</td>\n      <td>Goat rearing</td>\n      <td>none</td>\n      <td>48000.0</td>\n      <td>3500.0</td>\n      <td>0</td>\n      <td>...</td>\n      <td>1.0</td>\n      <td>T2</td>\n      <td>3</td>\n      <td>600.0</td>\n      <td>1.0</td>\n      <td>1.0</td>\n      <td>Meat Businesses</td>\n      <td>12</td>\n      <td>12</td>\n      <td>8000.0</td>\n    </tr>\n    <tr>\n      <th>39998</th>\n      <td>39999</td>\n      <td>Pusad</td>\n      <td>28</td>\n      <td>F</td>\n      <td>Sc</td>\n      <td>Goat rearing</td>\n      <td>none</td>\n      <td>48000.0</td>\n      <td>4000.0</td>\n      <td>0</td>\n      <td>...</td>\n      <td>1.0</td>\n      <td>T2</td>\n      <td>4</td>\n      <td>600.0</td>\n      <td>1.0</td>\n      <td>1.0</td>\n      <td>Meat Businesses</td>\n      <td>12</td>\n      <td>12</td>\n      <td>8000.0</td>\n    </tr>\n    <tr>\n      <th>39999</th>\n      <td>40000</td>\n      <td>Pusad</td>\n      <td>32</td>\n      <td>F</td>\n      <td>Sc</td>\n      <td>Goat rearing</td>\n      <td>none</td>\n      <td>72000.0</td>\n      <td>4500.0</td>\n      <td>0</td>\n      <td>...</td>\n      <td>1.0</td>\n      <td>T2</td>\n      <td>4</td>\n      <td>600.0</td>\n      <td>1.0</td>\n      <td>1.0</td>\n      <td>Meat Businesses</td>\n      <td>12</td>\n      <td>12</td>\n      <td>8000.0</td>\n    </tr>\n  </tbody>\n</table>\n<p>40000 rows × 21 columns</p>\n</div>"
     },
     "execution_count": 233,
     "metadata": {},
     "output_type": "execute_result"
    }
   ],
   "source": [
    "# Clearly the null values in City can't be deduced from anything else in the data set thus it is beneficial to substitute them with Unknown\n",
    "\n",
    "df['city'] = df['city'].fillna('Unknown')\n",
    "\n",
    "#Now to bring all the values in the city column in the same format with the first letter being Capital\n",
    "\n",
    "df['city'] = df['city'].str.title()\n",
    "df"
   ],
   "metadata": {
    "collapsed": false,
    "ExecuteTime": {
     "end_time": "2025-03-13T11:24:17.232300200Z",
     "start_time": "2025-03-13T11:24:16.994679300Z"
    }
   },
   "id": "1109c275a0a9bb1e"
  },
  {
   "cell_type": "code",
   "execution_count": 234,
   "outputs": [
    {
     "data": {
      "text/plain": "social_class\nOther Backward Class (OBC)    11908\nScheduled Caste (SC)           7187\nNot available                  5255\nGeneral                        4612\nOther                          4326\nMinority                       3619\nScheduled Tribe (ST)           3093\nName: count, dtype: int64"
     },
     "execution_count": 234,
     "metadata": {},
     "output_type": "execute_result"
    }
   ],
   "source": [
    "# Defining a function to correctly map various castes\n",
    "def map_social_class(x):\n",
    "    if pd.isna(x):\n",
    "        return 'Not available'  # Keep NaN values as NaN\n",
    "    x = str(x).lower() # Convert to lowercase for case-insensitive matching\n",
    "\n",
    "# Lists formed after a.i analysis\n",
    "    sc_list = [\n",
    "    'sc', 's.c', 's.c.', 'scheduled caste', 'schduled cast', 'schudle cast', 'sechudle caste', \n",
    "    'scedelt cast', 'schedule caste', 'harijan', 'harijan_sc', 'hindu_sc', 'chamar', 'mahar', 'mahar(sc)',\n",
    "    'adi karnataka (sc)', 'chambhar-sc', 'stsc', 'st(harijan)', 's.s', 'v.j.n.t.', 'nt', 's c']\n",
    "    obc_list = [\n",
    "    'obc', 'o.b.c', 'o.b.c.', '0bc', 'obc`', 'bce', 'bc', 'bc-e', 'bc-b', 'sbc', 'sebc', 'mbc', \n",
    "    'backward', 'hindu_obc', 'yadav', 'nai', 'teli', 'kevat', 'kurmi', 'kushwaha', 'noniya', \n",
    "    'kasar- obc', 'barbour (nai)', 'sonar (obc)', 'b.c.', 'abc']\n",
    "    st_list = [\n",
    "    'st', 's.t', 's.t.', 'scheduled tribe', 'sechudle tribe', 'tribal', 'tribel', 'tribal artisans',\n",
    "    'gond', 'st gond', 'mahadev koli', 'gondhali', 'bheel', 'bhil', 'bhill', 'baiga', 'kol', 'dhangar(nomadic tribe)',\n",
    "    'dhangar(nomadic tribes)', 'adiwashi', 'jenu kuruba']\n",
    "    general_list = [\n",
    "    'general', 'gen', 'gen.', 'gn', 'genl', 'genral', 'genetal', 'genaral', 'genarel', 'genrel', 'open', 'gen- bpl',\n",
    "    'general caste', 'rajput', 'baniya', 'pandit', 'marwari', 'genetal', 'genaral', 'genarel', 'genrel', 'gen.', \n",
    "    'brahmin', 'bramhan', 'bramin', 'brhaman', 'bramana', 'agrawal', 'patel', 'kayastha', 'rajpoot', 'thakur',\n",
    "    'singh', 'lodhi', 'nayaka', 'tiwari', 'pradhan', 'modi', 'chettiyar', 'vaishnavi', 'mali', 'madivala',\n",
    "    'lohar', 'pandey', 'kumbhar', 'kumhar', 'dhobi', 'devanga', 'kuruba', 'gounder', 'sutar', 'lingayat',\n",
    "    'lingayath', 'modaliyar', 'ramoshi', 'nadar', 'chetty', 'sali', 'vishwakarma', 'ezhava', 'achari',\n",
    "    'kanu', 'khatik', 'tamil']\n",
    "    minority_list = [\n",
    "    'minority', 'minority comunity', 'muslim', 'muslimm', 'musilm', 'muslin', 'mushlim', 'mulim', \n",
    "    'mushar', 'mehtar', 'methar', 'mionrity', 'minerity', 'mynority', 'mynorety', 'mynirity', 'minorty', \n",
    "    'minirity', 'minerty', 'mainolity', 'buddhist', 'bodhi', 'bauddha', 'baudhha', 'boudh', 'buddha', \n",
    "    'nava-baudha', 'christian', 'christians', 'christain', 'chricshan', 'crichtion', 'cristan', 'jain', \n",
    "    'jain kuruba', 'parsi', 'sikh', 'islam']\n",
    "    if x in sc_list:\n",
    "        return 'Scheduled Caste (SC)'\n",
    "    if x in obc_list:\n",
    "        return 'Other Backward Class (OBC)'\n",
    "    if x in general_list:\n",
    "        return 'General'\n",
    "    if x in st_list:\n",
    "        return 'Scheduled Tribe (ST)'\n",
    "    if x in minority_list:\n",
    "        return 'Minority'\n",
    "    else:\n",
    "        return 'Other'\n",
    "\n",
    "    \n",
    "# Apply the mapping function to the 'social_class' column\n",
    "df['social_class'] = df['social_class'].apply(map_social_class)\n",
    "\n",
    "# Now check the unique values again to verify the change\n",
    "df.social_class.value_counts()"
   ],
   "metadata": {
    "collapsed": false,
    "ExecuteTime": {
     "end_time": "2025-03-13T11:24:17.232300200Z",
     "start_time": "2025-03-13T11:24:17.119654Z"
    }
   },
   "id": "cc04e4cb8136ca59"
  },
  {
   "cell_type": "code",
   "execution_count": 235,
   "outputs": [],
   "source": [
    "import warnings\n",
    "warnings.simplefilter(action='ignore', category=[FutureWarning,RuntimeWarning])"
   ],
   "metadata": {
    "collapsed": false,
    "ExecuteTime": {
     "end_time": "2025-03-13T11:24:17.292489400Z",
     "start_time": "2025-03-13T11:24:17.209551400Z"
    }
   },
   "id": "b8f19eca511560ab"
  },
  {
   "cell_type": "code",
   "execution_count": 236,
   "outputs": [],
   "source": [
    "# Filling NA values in primary_business as 'Other'\n",
    "df['primary_business'] = df['primary_business'].fillna('Other')"
   ],
   "metadata": {
    "collapsed": false,
    "ExecuteTime": {
     "end_time": "2025-03-13T11:24:17.450059700Z",
     "start_time": "2025-03-13T11:24:17.220160400Z"
    }
   },
   "id": "1318e4bfc24333ff"
  },
  {
   "cell_type": "code",
   "execution_count": 237,
   "outputs": [],
   "source": [
    "# Filling NA values in secondary_business as 'none'\n",
    "df['secondary_business'] = df['secondary_business'].fillna('none')"
   ],
   "metadata": {
    "collapsed": false,
    "ExecuteTime": {
     "end_time": "2025-03-13T11:24:17.450059700Z",
     "start_time": "2025-03-13T11:24:17.235813Z"
    }
   },
   "id": "684c3c44b3b567aa"
  },
  {
   "cell_type": "code",
   "execution_count": 238,
   "outputs": [],
   "source": [
    "# Filling NA values in loan_purpose as 'Not Specified'\n",
    "df['loan_purpose'] = df['loan_purpose'].fillna('Not Specified')"
   ],
   "metadata": {
    "collapsed": false,
    "ExecuteTime": {
     "end_time": "2025-03-13T11:24:17.450059700Z",
     "start_time": "2025-03-13T11:24:17.252615400Z"
    }
   },
   "id": "aaca3a849848b38f"
  },
  {
   "cell_type": "code",
   "execution_count": 239,
   "outputs": [],
   "source": [
    "# Filling NA values in home_ownership column with mode\n",
    "df['home_ownership'] = df['home_ownership'].fillna(df['home_ownership'].mode()[0])"
   ],
   "metadata": {
    "collapsed": false,
    "ExecuteTime": {
     "end_time": "2025-03-13T11:24:17.450059700Z",
     "start_time": "2025-03-13T11:24:17.276824800Z"
    }
   },
   "id": "c022927cc098918e"
  },
  {
   "cell_type": "code",
   "execution_count": 240,
   "outputs": [],
   "source": [
    "# Filling NA values in type_of_house\n",
    "df['type_of_house'] = df['type_of_house'].fillna('Unknown')"
   ],
   "metadata": {
    "collapsed": false,
    "ExecuteTime": {
     "end_time": "2025-03-13T11:24:17.450059700Z",
     "start_time": "2025-03-13T11:24:17.292489400Z"
    }
   },
   "id": "338bd8fcad7db86e"
  },
  {
   "cell_type": "code",
   "execution_count": 248,
   "outputs": [],
   "source": [
    "# Rename 'water_availabity' to 'water_availability'\n",
    "df = df.rename(columns={'water_availabity': 'water_availability'})"
   ],
   "metadata": {
    "collapsed": false,
    "ExecuteTime": {
     "end_time": "2025-03-13T11:24:42.444794600Z",
     "start_time": "2025-03-13T11:24:42.359050700Z"
    }
   },
   "id": "f15e6903d416785a"
  },
  {
   "cell_type": "code",
   "execution_count": 250,
   "outputs": [],
   "source": [
    "#Replace -1 value in water availability as 1(as they were most probably entered a bit wrong by mistake)\n",
    "df['water_availability'] = df['water_availability'].replace(-1.0, 1)"
   ],
   "metadata": {
    "collapsed": false,
    "ExecuteTime": {
     "end_time": "2025-03-13T11:25:34.275954800Z",
     "start_time": "2025-03-13T11:25:34.113541700Z"
    }
   },
   "id": "923f89254591cce6"
  },
  {
   "cell_type": "code",
   "execution_count": 251,
   "outputs": [],
   "source": [
    "# Filling NA values in water_availabity column based on random proportions\n",
    "\n",
    "import random\n",
    "# Calculate the proportion of each category\n",
    "water_availability_proportions = df['water_availability'].value_counts(normalize=True)\n",
    "\n",
    "# Impute missing values randomly based on proportions\n",
    "df['water_availability'] = df['water_availability'].apply(lambda x: random.choices(\n",
    "    water_availability_proportions.index, weights=water_availability_proportions.values)[0] if pd.isnull(x) else x)"
   ],
   "metadata": {
    "collapsed": false,
    "ExecuteTime": {
     "end_time": "2025-03-13T11:25:36.334980Z",
     "start_time": "2025-03-13T11:25:36.081073900Z"
    }
   },
   "id": "d065abb8a6dd4cbd"
  },
  {
   "cell_type": "code",
   "execution_count": 254,
   "outputs": [],
   "source": [
    "# Filling NA values in sanitary_availability column with mode\n",
    "\n",
    "df['sanitary_availability'] = df['sanitary_availability'].fillna(df['sanitary_availability'].mode()[0])\n",
    "\n",
    "df['sanitary_availability'] = df['sanitary_availability'].replace(-1.0, 1)"
   ],
   "metadata": {
    "collapsed": false,
    "ExecuteTime": {
     "end_time": "2025-03-13T11:26:10.353836200Z",
     "start_time": "2025-03-13T11:26:10.304576100Z"
    }
   },
   "id": "4a4a2b78a5bc432b"
  },
  {
   "cell_type": "code",
   "execution_count": 255,
   "outputs": [],
   "source": [
    "# Handling missing values in monthly_expenses column\n",
    "import numpy as np\n",
    "\n",
    "# 1. Log Transformation:\n",
    "df['log_monthly_expenses'] = np.log1p(df['monthly_expenses'])"
   ],
   "metadata": {
    "collapsed": false,
    "ExecuteTime": {
     "end_time": "2025-03-13T11:26:12.113537600Z",
     "start_time": "2025-03-13T11:26:11.945117600Z"
    }
   },
   "id": "c18cdd5e365d73b4"
  },
  {
   "cell_type": "code",
   "execution_count": 256,
   "outputs": [],
   "source": [
    "# 2. Filling Missing Values in log_monthly_expenses with median:\n",
    "median_log_expenses = df['log_monthly_expenses'].median()\n",
    "df['log_monthly_expenses'] = df['log_monthly_expenses'].fillna(median_log_expenses)"
   ],
   "metadata": {
    "collapsed": false,
    "ExecuteTime": {
     "end_time": "2025-03-13T11:26:27.428871300Z",
     "start_time": "2025-03-13T11:26:27.323178300Z"
    }
   },
   "id": "8a241191c4b70ada"
  },
  {
   "cell_type": "code",
   "execution_count": 257,
   "outputs": [],
   "source": [
    "# 3. Reversing the Log Transformation:\n",
    "df['monthly_expenses'] = np.expm1(df['log_monthly_expenses'])"
   ],
   "metadata": {
    "collapsed": false,
    "ExecuteTime": {
     "end_time": "2025-03-13T11:26:28.378122100Z",
     "start_time": "2025-03-13T11:26:28.336829900Z"
    }
   },
   "id": "c3cb1a77e0a422e5"
  },
  {
   "cell_type": "code",
   "execution_count": 258,
   "outputs": [],
   "source": [
    "# 4. Drop the log_monthly_expenses column\n",
    "df = df.drop('log_monthly_expenses', axis=1)"
   ],
   "metadata": {
    "collapsed": false,
    "ExecuteTime": {
     "end_time": "2025-03-13T11:26:29.139440300Z",
     "start_time": "2025-03-13T11:26:29.068355Z"
    }
   },
   "id": "3994eb595b4de2b1"
  },
  {
   "cell_type": "code",
   "execution_count": 259,
   "outputs": [],
   "source": [
    "# On a bit of observation monthly and annual incomes seem to contradict each other for many entries\n",
    "if 'monthly_expenses' in df.columns and 'annual_income' in df.columns:\n",
    "    df = df[df['monthly_expenses'] <= (df['annual_income'] / 3)]"
   ],
   "metadata": {
    "collapsed": false,
    "ExecuteTime": {
     "end_time": "2025-03-13T11:26:29.805932600Z",
     "start_time": "2025-03-13T11:26:29.777322800Z"
    }
   },
   "id": "4016537e97a1e3ed"
  },
  {
   "cell_type": "code",
   "execution_count": 260,
   "outputs": [],
   "source": [
    "# Invalid Outliers in age\n",
    "\n",
    "# If age is less than 18 or greater than 90, then replace it with median age\n",
    "\n",
    "# Calculate the median age\n",
    "median_age = df['age'].median()\n",
    "\n",
    "# Replace ages less than 18 or greater than 90 with the median age\n",
    "df.loc[(df['age'] < 18) | (df['age'] > 90), 'age'] = median_age"
   ],
   "metadata": {
    "collapsed": false,
    "ExecuteTime": {
     "end_time": "2025-03-13T11:26:30.715985200Z",
     "start_time": "2025-03-13T11:26:30.692096600Z"
    }
   },
   "id": "491ea8f0e373b981"
  },
  {
   "cell_type": "code",
   "execution_count": 261,
   "outputs": [],
   "source": [
    "# Invalid Outliers in occupants_count\n",
    "\n",
    "# If occupants_count is greater than 15, then replace it with median occupants_count\n",
    "\n",
    "# Calculate the median occupants_count\n",
    "median_occupants_count = df['occupants_count'].median()\n",
    "\n",
    "# Replace occupants_count greater than 15 with the median occupants_count\n",
    "df.loc[(df['occupants_count'] > 15), 'occupants_count'] = median_occupants_count\n"
   ],
   "metadata": {
    "collapsed": false,
    "ExecuteTime": {
     "end_time": "2025-03-13T11:26:31.532546700Z",
     "start_time": "2025-03-13T11:26:31.499851100Z"
    }
   },
   "id": "a85d6158dd6f2016"
  },
  {
   "cell_type": "code",
   "execution_count": 262,
   "outputs": [],
   "source": [
    "# Invalid Outliers in loan_installments\n",
    "\n",
    "# If loan_installments is 0, then replace it with median occupants_count\n",
    "\n",
    "# Calculate the median loan_installments\n",
    "median_loan_installments = df['occupants_count'].median()\n",
    "\n",
    "# Replace loan_installments=0 with the median loan_installments\n",
    "df.loc[(df['occupants_count'] == 0), 'occupants_count'] = median_loan_installments"
   ],
   "metadata": {
    "collapsed": false,
    "ExecuteTime": {
     "end_time": "2025-03-13T11:26:32.557267400Z",
     "start_time": "2025-03-13T11:26:32.532466Z"
    }
   },
   "id": "bbd7a89ec6a8bbe2"
  },
  {
   "cell_type": "code",
   "execution_count": 263,
   "outputs": [
    {
     "data": {
      "text/plain": "<Figure size 1200x600 with 1 Axes>",
      "image/png": "[encoded data removed]"
     },
     "metadata": {},
     "output_type": "display_data"
    }
   ],
   "source": [
    "# box plot house_area after outlier removal\n",
    "\n",
    "import matplotlib.pyplot as plt\n",
    "plt.figure(figsize=(12, 6))\n",
    "\n",
    "plt.title('House Area')\n",
    "plt.boxplot(df['house_area'])\n",
    "plt.tight_layout()\n",
    "plt.show()"
   ],
   "metadata": {
    "collapsed": false,
    "ExecuteTime": {
     "end_time": "2025-03-13T11:26:33.365633400Z",
     "start_time": "2025-03-13T11:26:33.137981100Z"
    }
   },
   "id": "6c5858aaf363a181"
  },
  {
   "cell_type": "code",
   "execution_count": 264,
   "outputs": [],
   "source": [
    "# function to drop the Invalid outliers in the house_area using IQR method\n",
    "\n",
    "def drop_outliers_iqr(df, columns):\n",
    "  df_no_outliers = df.copy()  # Create a copy to avoid modifying the original\n",
    "  for col in columns:\n",
    "    Q1 = df_no_outliers[col].quantile(0.25)\n",
    "    Q3 = df_no_outliers[col].quantile(0.75)\n",
    "    IQR = Q3 - Q1\n",
    "    lower_bound = Q1 - 3 * IQR\n",
    "    upper_bound = Q3 + 3 * IQR\n",
    "    df_no_outliers = df_no_outliers[\n",
    "        (df_no_outliers[col] >= lower_bound) & (df_no_outliers[col] <= upper_bound)\n",
    "    ]\n",
    "  return df_no_outliers\n",
    "\n",
    "\n",
    "columns_to_process = ['house_area']\n",
    "df_cleaned = drop_outliers_iqr(df, columns_to_process)"
   ],
   "metadata": {
    "collapsed": false,
    "ExecuteTime": {
     "end_time": "2025-03-13T11:26:34.209754700Z",
     "start_time": "2025-03-13T11:26:34.159731900Z"
    }
   },
   "id": "1b2efb3cf68ca587"
  },
  {
   "cell_type": "code",
   "execution_count": 265,
   "outputs": [
    {
     "data": {
      "text/plain": "<Figure size 1200x600 with 1 Axes>",
      "image/png": "[encoded data removed]"
     },
     "metadata": {},
     "output_type": "display_data"
    }
   ],
   "source": [
    "# box plot house_area after outlier removal\n",
    "\n",
    "import matplotlib.pyplot as plt\n",
    "plt.figure(figsize=(12, 6))\n",
    "\n",
    "plt.title('House Area')\n",
    "plt.boxplot(df_cleaned['house_area'])\n",
    "plt.tight_layout()\n",
    "plt.show()\n"
   ],
   "metadata": {
    "collapsed": false,
    "ExecuteTime": {
     "end_time": "2025-03-13T11:26:35.760003600Z",
     "start_time": "2025-03-13T11:26:35.452820900Z"
    }
   },
   "id": "45c15a9150f9b746"
  },
  {
   "cell_type": "code",
   "execution_count": 266,
   "outputs": [],
   "source": [
    "df_cleaned.to_csv('processed_data.csv', index=False)"
   ],
   "metadata": {
    "collapsed": false,
    "ExecuteTime": {
     "end_time": "2025-03-13T11:26:38.030723500Z",
     "start_time": "2025-03-13T11:26:37.372558700Z"
    }
   },
   "id": "27523b231ce036d0"
  },
  {
   "cell_type": "code",
   "execution_count": null,
   "outputs": [],
   "source": [],
   "metadata": {
    "collapsed": false,
    "ExecuteTime": {
     "start_time": "2025-03-13T11:24:17.425025600Z"
    }
   },
   "id": "3a54aa9ad7a826b8"
  }
 ],
 "metadata": {
  "kernelspec": {
   "display_name": "Python 3",
   "language": "python",
   "name": "python3"
  },
  "language_info": {
   "codemirror_mode": {
    "name": "ipython",
    "version": 2
   },
   "file_extension": ".py",
   "mimetype": "text/x-python",
   "name": "python",
   "nbconvert_exporter": "python",
   "pygments_lexer": "ipython2",
   "version": "2.7.6"
  }
 },
 "nbformat": 4,
 "nbformat_minor": 5
}
