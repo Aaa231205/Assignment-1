{
 "cells": [
  {
   "cell_type": "markdown",
   "source": [
    "**Exploratory Data Analysis (EDA) Report**\n",
    "\n",
    "## **1. Data Cleaning Observations**\n",
    "- Rows where **monthly spend was over a third of income** were dropped to make it economically possible.\n",
    "- Replacement of missing values with different methods ensured correct analyses\n",
    "- Reducing unique values by **creating classes** resulted in better analysis\n",
    "\n",
    "---\n",
    "## **2. Univariate Analysis Observations**\n",
    "- **Summary statistics:**\n",
    "  - Financial variables have right-skewed distributions indicating that the majority of individuals have low incomes with some high-income outliers.\n",
    "- Large variance in loan values and yearly incomes suggests large variations in financial histories.\n",
    "- **Histograms:**\n",
    "  - Certain variables had a **bimodal distribution**, meaning that there were distinct groups in the data set.\n",
    "- **Box Plots:**\n",
    "  - Spending-related characteristics had extreme outliers, meaning there were a few with very large expenditures.\n",
    "- **Categorical Frequency Distributions:**\n",
    "- Some categories (e.g., type of job, region) were disproportionately represented, suggesting data collection biases.\n",
    "\n",
    "---\n",
    "## **3. Bivariate Analysis Observations**\n",
    "- **Correlation Matrix:**\n",
    "  - Very **positive correlation** between **loan amount and annual income**, where more affluent people tend to take bigger loans.\n",
    "  - Weak or **negative correlation** between **loan repayment and monthly expenses**, which indicates financial strain has an effect on loan servicing.\n",
    "- **Scatter Plots:** - Spending patterns showed clustering patterns that reflected differences between high and low spenders.\n",
    "- **Categorical vs. Numerical Box Plots:** - Significant differences in earnings between various job sectors, with some reporting higher income levels.\n",
    "- **Bar Plots & Violin Plots:** - The amounts borrowed were considerably different for each age group, with younger people borrowing less than older people.\n",
    "\n",
    "--- \n",
    "## **4. Multivariate Analysis Observations** \n",
    "- **Principal Component Analysis (PCA):** \n",
    "- The first two principal components reduced data without sacrificing patterns, accounting for a **substantial proportion of variance**.\n",
    "  - PCA scatter plots showed **grouped clusters**, indicating significant customer segmentation.\n",
    "- **K-Means Clustering:** - Three distinct **customer clusters** were observed:\n",
    "  - **Low-income, low-loan customers** \n",
    "  - **Moderate-income, medium-loan borrowers**\n",
    "  - **High-income, high-loan consumers**\n",
    "Financial risk was indicated by the high debt levels of some of the priciest clients.\n",
    "\n",
    "---\n",
    "## **5. Key Patterns Identified**\n",
    " **Financial Patterns:**\n",
    "- Individuals with higher incomes take bigger loans.\n",
    "- Increased monthly spending tends to accompany loan repayment problems.\n",
    "- Some low-income households exhibit **better financial discipline** with lower debt.\n",
    "\n",
    " **Demographic Trends:**\n",
    "- Loan sizes vary widely by **age groups**, with the older person taking larger loans.\n",
    "- Some job categories show **broader income ranges**, indicating diverse earning capacity within sectors.\n",
    "- Certain customer segments show **unique spending habits**, aiding in specific financial planning.\n",
    "\n",
    " **Clustering Insights:**\n",
    "- Three large **customer segments** were determined through financial behavior.\n",
    "- Some high-spend individuals were also high-risk borrowers.\n",
    "- PCA showed promise for additional segmentation with more sophisticated methods.\n",
    "\n",
    "--- \n",
    "### **Conclusion**\n",
    "This EDA gave a thorough **data-driven groundwork** for subsequent analysis. These findings can assist in **risk evaluation, customer profiling, and financial product optimization**.\n",
    "\n",
    "\n"
   ],
   "metadata": {
    "collapsed": false
   },
   "id": "1bcafcc9aee03265"
  },
  {
   "cell_type": "code",
   "execution_count": null,
   "outputs": [],
   "source": [],
   "metadata": {
    "collapsed": false
   },
   "id": "73de7dbef49d8d67"
  }
 ],
 "metadata": {
  "kernelspec": {
   "display_name": "Python 3",
   "language": "python",
   "name": "python3"
  },
  "language_info": {
   "codemirror_mode": {
    "name": "ipython",
    "version": 2
   },
   "file_extension": ".py",
   "mimetype": "text/x-python",
   "name": "python",
   "nbconvert_exporter": "python",
   "pygments_lexer": "ipython2",
   "version": "2.7.6"
  }
 },
 "nbformat": 4,
 "nbformat_minor": 5
}
